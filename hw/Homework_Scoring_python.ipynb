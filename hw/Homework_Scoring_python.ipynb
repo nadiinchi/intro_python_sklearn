{
 "cells": [
  {
   "cell_type": "markdown",
   "metadata": {},
   "source": [
    "# Решение задачи кредитного скоринга\n",
    "\n",
    "На занятии мы рассмотрели пример обучения моделей машинного обучения на данных \"Бостон\" с использованием языка Python и библиотеки Sklearn. В этом задании вы рассмотрите другой набор данных, построите и проанализируете на этих данных линейную модель и постараетесь немного повысить ее качество.\n",
    "\n",
    "В отличие от задания с домами Бостона, данные в этой задаче не сразу готовы для построения модели, и нам потребуется предварительно посмотреть на данные и предобработать их. Вам нужно только выполнить ячейки с предобработкой данных и прочитать сопутствующий текст. Вашей задачей будет построить модель на уже предобработанных данных. Все задания отмечены жирным текстом __Задание__.\n",
    "\n",
    "При выполнении заданий пользуйтесь [таблицей с подсказками](https://github.com/nadiinchi/intro_sklearn/blob/master/Cheatsheet.pdf) и примером с занятия [1_boston_task](https://github.com/nadiinchi/intro_sklearn/blob/master/1_boston_task_solution.ipynb).\n",
    "\n",
    "__Внимание:__ вам нужно обязательно выполнить все ячейки с уже написанным кодом, чтобы избежать появляющихся ошибок. Для этого нужно либо нажимать на каждую ячейку с кодом и нажимать Run на верхней панели, либо один раз выполнить команду Run all above (инструкция будет дана в начале блока самостоятелньой работы ниже)."
   ]
  },
  {
   "cell_type": "markdown",
   "metadata": {},
   "source": [
    "### Описание данных\n",
    "\n",
    "Мы будем решать задачу кредитного скоринга. В данных имеются следующие признаки (этот список необязательно изучать подробно):\n",
    "* account: банковский счет (-1: отриц. баланс, 0: нет счета, 1: до 200 ед., 2: более 200 ед.)\n",
    "* duration: на какой период запрашивается кредит\n",
    "* credit_history: рейтинг по кредитной истории (от 0 - отличная кр. история до 4 - критическая ситуация с кредитами)\n",
    "* amount: на какую сумму запрашивают кредит\n",
    "* savings: сберегательный счет (0: нет, 1: < 100, 2: 100 <= ... < 500, 3: 500 <= ... < 1000, 4:  >= 1000)\n",
    "* employment: срок работы на текущей позиции (0: не работает, 1: до 1 года, 2: от 1 до 4 лет, 3: от 4 до 7 лет, 4: более 7 лет)\n",
    "* guarantors: 1 - есть поручители, 0 - нет\n",
    "* residence:  сколько лет резидент\n",
    "* age: возраст, деленный на 100\n",
    "* credits_number: число кредитов\n",
    "* job: 0: не работает, 1: неквалифицированный, 2: квалифицированный специалист, 3: высокая должность или бизнес\n",
    "* maintenance_people: число людей, которых обеспечивает заемщик\n",
    "* telephone: указан ли телефон (1: да, 0: нет)\n",
    "* foreign: 1: иностранец, 0: нет\n",
    "* real_estate: 1: есть недвижимость, 0: нет недвижимости\n",
    "* life_insurance: 1: оформлено страхование жизни, 0, нет страховки\n",
    "* car: 1: есть автомобиль, 0: нет автомобиля\n",
    "* housing_rent: 1: платит за съем жилья, 0: не платит за съем жилья\n",
    "* sex: пол - 1: муж., 0: жен.\n",
    "* purpose: на какую цель запрашивают кредит (из нескольких вариантов)\n",
    "* target: 1: кредит выдан, 0: в кредите отказано\n",
    "\n",
    "Требуется решить задачу предсказания значения target, то есть задачу бинарной классификации."
   ]
  },
  {
   "cell_type": "markdown",
   "metadata": {},
   "source": [
    "По описанию данных понятно, что все признаки числовые (включая вещественные, порядковые, бинарные), кроме предпоследнего, который является категориальным."
   ]
  },
  {
   "cell_type": "markdown",
   "metadata": {},
   "source": [
    "### 1. Загрузка, визуализация и предварительный анализ данных\n",
    "\n",
    "Для данных кредитного скоринга нам понадобится выполнить предобработку данных, используя некоторое количество команд, которые мы ранее не разбирали. Эти команды не понадобятся в части для самостоятельной работы.\n",
    "\n",
    "Используем модуль pandas и его функцию read_excel для загрузки данных:"
   ]
  },
  {
   "cell_type": "code",
   "execution_count": 1,
   "metadata": {
    "collapsed": true
   },
   "outputs": [],
   "source": [
    "import pandas as pd\n",
    "%matplotlib inline \n",
    "# служебная команда для графиков"
   ]
  },
  {
   "cell_type": "code",
   "execution_count": 2,
   "metadata": {
    "collapsed": true
   },
   "outputs": [],
   "source": [
    "tab = pd.read_excel(\"scoring.xlsx\")"
   ]
  },
  {
   "cell_type": "markdown",
   "metadata": {},
   "source": [
    "Посмотрим на первые 10 строк с помощью функции head:"
   ]
  },
  {
   "cell_type": "code",
   "execution_count": 3,
   "metadata": {},
   "outputs": [
    {
     "data": {
      "text/html": [
       "<div>\n",
       "<style>\n",
       "    .dataframe thead tr:only-child th {\n",
       "        text-align: right;\n",
       "    }\n",
       "\n",
       "    .dataframe thead th {\n",
       "        text-align: left;\n",
       "    }\n",
       "\n",
       "    .dataframe tbody tr th {\n",
       "        vertical-align: top;\n",
       "    }\n",
       "</style>\n",
       "<table border=\"1\" class=\"dataframe\">\n",
       "  <thead>\n",
       "    <tr style=\"text-align: right;\">\n",
       "      <th></th>\n",
       "      <th>account</th>\n",
       "      <th>duration</th>\n",
       "      <th>credit_history</th>\n",
       "      <th>amount</th>\n",
       "      <th>savings</th>\n",
       "      <th>employment</th>\n",
       "      <th>guarantors</th>\n",
       "      <th>residence</th>\n",
       "      <th>age</th>\n",
       "      <th>credits_number</th>\n",
       "      <th>...</th>\n",
       "      <th>maintenance_people</th>\n",
       "      <th>telephone</th>\n",
       "      <th>foreign</th>\n",
       "      <th>real_estate</th>\n",
       "      <th>life_insurance</th>\n",
       "      <th>car</th>\n",
       "      <th>housing_rent</th>\n",
       "      <th>sex</th>\n",
       "      <th>purpose</th>\n",
       "      <th>target</th>\n",
       "    </tr>\n",
       "  </thead>\n",
       "  <tbody>\n",
       "    <tr>\n",
       "      <th>0</th>\n",
       "      <td>1</td>\n",
       "      <td>0.18</td>\n",
       "      <td>2</td>\n",
       "      <td>1311.0</td>\n",
       "      <td>2</td>\n",
       "      <td>2</td>\n",
       "      <td>1</td>\n",
       "      <td>4</td>\n",
       "      <td>34.0</td>\n",
       "      <td>1</td>\n",
       "      <td>...</td>\n",
       "      <td>1</td>\n",
       "      <td>0</td>\n",
       "      <td>1</td>\n",
       "      <td>0</td>\n",
       "      <td>0</td>\n",
       "      <td>1</td>\n",
       "      <td>0</td>\n",
       "      <td>1</td>\n",
       "      <td>business</td>\n",
       "      <td>1</td>\n",
       "    </tr>\n",
       "    <tr>\n",
       "      <th>1</th>\n",
       "      <td>-1</td>\n",
       "      <td>0.18</td>\n",
       "      <td>0</td>\n",
       "      <td>1552.0</td>\n",
       "      <td>1</td>\n",
       "      <td>3</td>\n",
       "      <td>1</td>\n",
       "      <td>1</td>\n",
       "      <td>31.0</td>\n",
       "      <td>1</td>\n",
       "      <td>...</td>\n",
       "      <td>1</td>\n",
       "      <td>1</td>\n",
       "      <td>1</td>\n",
       "      <td>0</td>\n",
       "      <td>1</td>\n",
       "      <td>0</td>\n",
       "      <td>0</td>\n",
       "      <td>1</td>\n",
       "      <td>business</td>\n",
       "      <td>1</td>\n",
       "    </tr>\n",
       "    <tr>\n",
       "      <th>2</th>\n",
       "      <td>-1</td>\n",
       "      <td>0.12</td>\n",
       "      <td>2</td>\n",
       "      <td>451.0</td>\n",
       "      <td>1</td>\n",
       "      <td>3</td>\n",
       "      <td>1</td>\n",
       "      <td>4</td>\n",
       "      <td>21.0</td>\n",
       "      <td>1</td>\n",
       "      <td>...</td>\n",
       "      <td>1</td>\n",
       "      <td>0</td>\n",
       "      <td>1</td>\n",
       "      <td>0</td>\n",
       "      <td>1</td>\n",
       "      <td>0</td>\n",
       "      <td>1</td>\n",
       "      <td>1</td>\n",
       "      <td>retraining</td>\n",
       "      <td>0</td>\n",
       "    </tr>\n",
       "    <tr>\n",
       "      <th>3</th>\n",
       "      <td>-1</td>\n",
       "      <td>0.30</td>\n",
       "      <td>0</td>\n",
       "      <td>4036.0</td>\n",
       "      <td>0</td>\n",
       "      <td>1</td>\n",
       "      <td>1</td>\n",
       "      <td>3</td>\n",
       "      <td>25.0</td>\n",
       "      <td>3</td>\n",
       "      <td>...</td>\n",
       "      <td>1</td>\n",
       "      <td>0</td>\n",
       "      <td>1</td>\n",
       "      <td>0</td>\n",
       "      <td>0</td>\n",
       "      <td>1</td>\n",
       "      <td>0</td>\n",
       "      <td>1</td>\n",
       "      <td>business</td>\n",
       "      <td>1</td>\n",
       "    </tr>\n",
       "    <tr>\n",
       "      <th>4</th>\n",
       "      <td>0</td>\n",
       "      <td>0.36</td>\n",
       "      <td>2</td>\n",
       "      <td>909.5</td>\n",
       "      <td>1</td>\n",
       "      <td>2</td>\n",
       "      <td>1</td>\n",
       "      <td>4</td>\n",
       "      <td>37.0</td>\n",
       "      <td>1</td>\n",
       "      <td>...</td>\n",
       "      <td>1</td>\n",
       "      <td>1</td>\n",
       "      <td>1</td>\n",
       "      <td>0</td>\n",
       "      <td>0</td>\n",
       "      <td>0</td>\n",
       "      <td>0</td>\n",
       "      <td>1</td>\n",
       "      <td>education</td>\n",
       "      <td>0</td>\n",
       "    </tr>\n",
       "    <tr>\n",
       "      <th>5</th>\n",
       "      <td>1</td>\n",
       "      <td>0.24</td>\n",
       "      <td>3</td>\n",
       "      <td>1032.0</td>\n",
       "      <td>1</td>\n",
       "      <td>0</td>\n",
       "      <td>1</td>\n",
       "      <td>2</td>\n",
       "      <td>34.0</td>\n",
       "      <td>1</td>\n",
       "      <td>...</td>\n",
       "      <td>1</td>\n",
       "      <td>1</td>\n",
       "      <td>1</td>\n",
       "      <td>0</td>\n",
       "      <td>1</td>\n",
       "      <td>0</td>\n",
       "      <td>0</td>\n",
       "      <td>0</td>\n",
       "      <td>furniture</td>\n",
       "      <td>0</td>\n",
       "    </tr>\n",
       "    <tr>\n",
       "      <th>6</th>\n",
       "      <td>1</td>\n",
       "      <td>0.09</td>\n",
       "      <td>4</td>\n",
       "      <td>750.5</td>\n",
       "      <td>1</td>\n",
       "      <td>4</td>\n",
       "      <td>1</td>\n",
       "      <td>3</td>\n",
       "      <td>34.0</td>\n",
       "      <td>2</td>\n",
       "      <td>...</td>\n",
       "      <td>1</td>\n",
       "      <td>1</td>\n",
       "      <td>1</td>\n",
       "      <td>0</td>\n",
       "      <td>0</td>\n",
       "      <td>1</td>\n",
       "      <td>0</td>\n",
       "      <td>0</td>\n",
       "      <td>education</td>\n",
       "      <td>0</td>\n",
       "    </tr>\n",
       "    <tr>\n",
       "      <th>7</th>\n",
       "      <td>-1</td>\n",
       "      <td>0.12</td>\n",
       "      <td>2</td>\n",
       "      <td>450.0</td>\n",
       "      <td>0</td>\n",
       "      <td>2</td>\n",
       "      <td>1</td>\n",
       "      <td>2</td>\n",
       "      <td>23.0</td>\n",
       "      <td>1</td>\n",
       "      <td>...</td>\n",
       "      <td>1</td>\n",
       "      <td>0</td>\n",
       "      <td>1</td>\n",
       "      <td>0</td>\n",
       "      <td>0</td>\n",
       "      <td>1</td>\n",
       "      <td>0</td>\n",
       "      <td>1</td>\n",
       "      <td>car_new</td>\n",
       "      <td>0</td>\n",
       "    </tr>\n",
       "    <tr>\n",
       "      <th>8</th>\n",
       "      <td>1</td>\n",
       "      <td>0.36</td>\n",
       "      <td>3</td>\n",
       "      <td>4043.0</td>\n",
       "      <td>2</td>\n",
       "      <td>4</td>\n",
       "      <td>1</td>\n",
       "      <td>4</td>\n",
       "      <td>42.0</td>\n",
       "      <td>4</td>\n",
       "      <td>...</td>\n",
       "      <td>1</td>\n",
       "      <td>1</td>\n",
       "      <td>1</td>\n",
       "      <td>0</td>\n",
       "      <td>0</td>\n",
       "      <td>1</td>\n",
       "      <td>0</td>\n",
       "      <td>1</td>\n",
       "      <td>car_new</td>\n",
       "      <td>0</td>\n",
       "    </tr>\n",
       "    <tr>\n",
       "      <th>9</th>\n",
       "      <td>-1</td>\n",
       "      <td>0.42</td>\n",
       "      <td>3</td>\n",
       "      <td>2185.0</td>\n",
       "      <td>1</td>\n",
       "      <td>3</td>\n",
       "      <td>1</td>\n",
       "      <td>2</td>\n",
       "      <td>26.0</td>\n",
       "      <td>2</td>\n",
       "      <td>...</td>\n",
       "      <td>2</td>\n",
       "      <td>1</td>\n",
       "      <td>1</td>\n",
       "      <td>0</td>\n",
       "      <td>1</td>\n",
       "      <td>0</td>\n",
       "      <td>0</td>\n",
       "      <td>1</td>\n",
       "      <td>television</td>\n",
       "      <td>0</td>\n",
       "    </tr>\n",
       "  </tbody>\n",
       "</table>\n",
       "<p>10 rows × 21 columns</p>\n",
       "</div>"
      ],
      "text/plain": [
       "   account  duration  credit_history  amount  savings  employment  guarantors  \\\n",
       "0        1      0.18               2  1311.0        2           2           1   \n",
       "1       -1      0.18               0  1552.0        1           3           1   \n",
       "2       -1      0.12               2   451.0        1           3           1   \n",
       "3       -1      0.30               0  4036.0        0           1           1   \n",
       "4        0      0.36               2   909.5        1           2           1   \n",
       "5        1      0.24               3  1032.0        1           0           1   \n",
       "6        1      0.09               4   750.5        1           4           1   \n",
       "7       -1      0.12               2   450.0        0           2           1   \n",
       "8        1      0.36               3  4043.0        2           4           1   \n",
       "9       -1      0.42               3  2185.0        1           3           1   \n",
       "\n",
       "   residence   age  credits_number  ...    maintenance_people  telephone  \\\n",
       "0          4  34.0               1  ...                     1          0   \n",
       "1          1  31.0               1  ...                     1          1   \n",
       "2          4  21.0               1  ...                     1          0   \n",
       "3          3  25.0               3  ...                     1          0   \n",
       "4          4  37.0               1  ...                     1          1   \n",
       "5          2  34.0               1  ...                     1          1   \n",
       "6          3  34.0               2  ...                     1          1   \n",
       "7          2  23.0               1  ...                     1          0   \n",
       "8          4  42.0               4  ...                     1          1   \n",
       "9          2  26.0               2  ...                     2          1   \n",
       "\n",
       "   foreign  real_estate  life_insurance  car  housing_rent  sex     purpose  \\\n",
       "0        1            0               0    1             0    1    business   \n",
       "1        1            0               1    0             0    1    business   \n",
       "2        1            0               1    0             1    1  retraining   \n",
       "3        1            0               0    1             0    1    business   \n",
       "4        1            0               0    0             0    1   education   \n",
       "5        1            0               1    0             0    0   furniture   \n",
       "6        1            0               0    1             0    0   education   \n",
       "7        1            0               0    1             0    1     car_new   \n",
       "8        1            0               0    1             0    1     car_new   \n",
       "9        1            0               1    0             0    1  television   \n",
       "\n",
       "  target  \n",
       "0      1  \n",
       "1      1  \n",
       "2      0  \n",
       "3      1  \n",
       "4      0  \n",
       "5      0  \n",
       "6      0  \n",
       "7      0  \n",
       "8      0  \n",
       "9      0  \n",
       "\n",
       "[10 rows x 21 columns]"
      ]
     },
     "execution_count": 3,
     "metadata": {},
     "output_type": "execute_result"
    }
   ],
   "source": [
    "tab.head(10)"
   ]
  },
  {
   "cell_type": "markdown",
   "metadata": {},
   "source": [
    "По строкам - объекты (клиенты), по столбцам - признаки, последний столбец - целевая переменная (1 - кредит выдан, 0 - в кредите отказано)."
   ]
  },
  {
   "cell_type": "markdown",
   "metadata": {},
   "source": [
    "Сколько объектов и признаков?"
   ]
  },
  {
   "cell_type": "code",
   "execution_count": 4,
   "metadata": {},
   "outputs": [
    {
     "data": {
      "text/plain": [
       "(600, 21)"
      ]
     },
     "execution_count": 4,
     "metadata": {},
     "output_type": "execute_result"
    }
   ],
   "source": [
    "tab.shape"
   ]
  },
  {
   "cell_type": "markdown",
   "metadata": {},
   "source": [
    "Посмотрим, сколько кредитов выдано и не выдано:"
   ]
  },
  {
   "cell_type": "code",
   "execution_count": 5,
   "metadata": {},
   "outputs": [
    {
     "data": {
      "text/plain": [
       "1    300\n",
       "0    300\n",
       "Name: target, dtype: int64"
      ]
     },
     "execution_count": 5,
     "metadata": {},
     "output_type": "execute_result"
    }
   ],
   "source": [
    "class_counts = tab[\"target\"].value_counts()\n",
    "class_counts"
   ]
  },
  {
   "cell_type": "code",
   "execution_count": 6,
   "metadata": {},
   "outputs": [
    {
     "data": {
      "text/plain": [
       "<matplotlib.axes._subplots.AxesSubplot at 0x10c597550>"
      ]
     },
     "execution_count": 6,
     "metadata": {},
     "output_type": "execute_result"
    },
    {
     "data": {
      "image/png": "[encoded data removed]",
      "text/plain": [
       "<matplotlib.figure.Figure at 0x10c597d30>"
      ]
     },
     "metadata": {},
     "output_type": "display_data"
    }
   ],
   "source": [
    "class_counts.plot(kind='bar', title=\"Число выданных и не выданных кредитов\")"
   ]
  },
  {
   "cell_type": "markdown",
   "metadata": {},
   "source": [
    "Выданных и невыданных кредитов поровну - это хорошо, так как это упрощает обучение и позволяет использовать легко интерпретируемую метрику accuracy (доля правильных ответов)."
   ]
  },
  {
   "cell_type": "markdown",
   "metadata": {},
   "source": [
    "Посмотрим общие статистики по данным:"
   ]
  },
  {
   "cell_type": "code",
   "execution_count": 7,
   "metadata": {},
   "outputs": [
    {
     "data": {
      "text/html": [
       "<div>\n",
       "<style>\n",
       "    .dataframe thead tr:only-child th {\n",
       "        text-align: right;\n",
       "    }\n",
       "\n",
       "    .dataframe thead th {\n",
       "        text-align: left;\n",
       "    }\n",
       "\n",
       "    .dataframe tbody tr th {\n",
       "        vertical-align: top;\n",
       "    }\n",
       "</style>\n",
       "<table border=\"1\" class=\"dataframe\">\n",
       "  <thead>\n",
       "    <tr style=\"text-align: right;\">\n",
       "      <th></th>\n",
       "      <th>account</th>\n",
       "      <th>duration</th>\n",
       "      <th>credit_history</th>\n",
       "      <th>amount</th>\n",
       "      <th>savings</th>\n",
       "      <th>employment</th>\n",
       "      <th>guarantors</th>\n",
       "      <th>residence</th>\n",
       "      <th>age</th>\n",
       "      <th>credits_number</th>\n",
       "      <th>job</th>\n",
       "      <th>maintenance_people</th>\n",
       "      <th>telephone</th>\n",
       "      <th>foreign</th>\n",
       "      <th>real_estate</th>\n",
       "      <th>life_insurance</th>\n",
       "      <th>car</th>\n",
       "      <th>housing_rent</th>\n",
       "      <th>sex</th>\n",
       "      <th>target</th>\n",
       "    </tr>\n",
       "  </thead>\n",
       "  <tbody>\n",
       "    <tr>\n",
       "      <th>count</th>\n",
       "      <td>600.000000</td>\n",
       "      <td>600.000000</td>\n",
       "      <td>600.000000</td>\n",
       "      <td>600.000000</td>\n",
       "      <td>600.000000</td>\n",
       "      <td>600.000000</td>\n",
       "      <td>600.000000</td>\n",
       "      <td>600.000000</td>\n",
       "      <td>600.000000</td>\n",
       "      <td>600.000000</td>\n",
       "      <td>600.000000</td>\n",
       "      <td>600.000000</td>\n",
       "      <td>600.000000</td>\n",
       "      <td>600.000000</td>\n",
       "      <td>600.000000</td>\n",
       "      <td>600.000000</td>\n",
       "      <td>600.000000</td>\n",
       "      <td>600.000000</td>\n",
       "      <td>600.000000</td>\n",
       "      <td>600.000000</td>\n",
       "    </tr>\n",
       "    <tr>\n",
       "      <th>mean</th>\n",
       "      <td>0.083333</td>\n",
       "      <td>0.218783</td>\n",
       "      <td>2.410000</td>\n",
       "      <td>1735.245833</td>\n",
       "      <td>1.200000</td>\n",
       "      <td>2.348333</td>\n",
       "      <td>0.901667</td>\n",
       "      <td>2.831667</td>\n",
       "      <td>35.181667</td>\n",
       "      <td>1.366667</td>\n",
       "      <td>1.906667</td>\n",
       "      <td>1.150000</td>\n",
       "      <td>0.391667</td>\n",
       "      <td>0.965000</td>\n",
       "      <td>0.268333</td>\n",
       "      <td>0.205000</td>\n",
       "      <td>0.343333</td>\n",
       "      <td>0.186667</td>\n",
       "      <td>0.691667</td>\n",
       "      <td>0.500000</td>\n",
       "    </tr>\n",
       "    <tr>\n",
       "      <th>std</th>\n",
       "      <td>0.915306</td>\n",
       "      <td>0.127492</td>\n",
       "      <td>1.098747</td>\n",
       "      <td>1545.026093</td>\n",
       "      <td>0.924531</td>\n",
       "      <td>1.208069</td>\n",
       "      <td>0.298013</td>\n",
       "      <td>1.103945</td>\n",
       "      <td>11.416182</td>\n",
       "      <td>0.565174</td>\n",
       "      <td>0.662334</td>\n",
       "      <td>0.357369</td>\n",
       "      <td>0.488530</td>\n",
       "      <td>0.183933</td>\n",
       "      <td>0.443462</td>\n",
       "      <td>0.404038</td>\n",
       "      <td>0.475218</td>\n",
       "      <td>0.389969</td>\n",
       "      <td>0.462190</td>\n",
       "      <td>0.500417</td>\n",
       "    </tr>\n",
       "    <tr>\n",
       "      <th>min</th>\n",
       "      <td>-1.000000</td>\n",
       "      <td>0.040000</td>\n",
       "      <td>0.000000</td>\n",
       "      <td>125.000000</td>\n",
       "      <td>0.000000</td>\n",
       "      <td>0.000000</td>\n",
       "      <td>0.000000</td>\n",
       "      <td>1.000000</td>\n",
       "      <td>19.000000</td>\n",
       "      <td>1.000000</td>\n",
       "      <td>0.000000</td>\n",
       "      <td>1.000000</td>\n",
       "      <td>0.000000</td>\n",
       "      <td>0.000000</td>\n",
       "      <td>0.000000</td>\n",
       "      <td>0.000000</td>\n",
       "      <td>0.000000</td>\n",
       "      <td>0.000000</td>\n",
       "      <td>0.000000</td>\n",
       "      <td>0.000000</td>\n",
       "    </tr>\n",
       "    <tr>\n",
       "      <th>25%</th>\n",
       "      <td>-1.000000</td>\n",
       "      <td>0.120000</td>\n",
       "      <td>2.000000</td>\n",
       "      <td>681.625000</td>\n",
       "      <td>1.000000</td>\n",
       "      <td>2.000000</td>\n",
       "      <td>1.000000</td>\n",
       "      <td>2.000000</td>\n",
       "      <td>26.000000</td>\n",
       "      <td>1.000000</td>\n",
       "      <td>2.000000</td>\n",
       "      <td>1.000000</td>\n",
       "      <td>0.000000</td>\n",
       "      <td>1.000000</td>\n",
       "      <td>0.000000</td>\n",
       "      <td>0.000000</td>\n",
       "      <td>0.000000</td>\n",
       "      <td>0.000000</td>\n",
       "      <td>0.000000</td>\n",
       "      <td>0.000000</td>\n",
       "    </tr>\n",
       "    <tr>\n",
       "      <th>50%</th>\n",
       "      <td>0.000000</td>\n",
       "      <td>0.180000</td>\n",
       "      <td>2.000000</td>\n",
       "      <td>1173.500000</td>\n",
       "      <td>1.000000</td>\n",
       "      <td>2.000000</td>\n",
       "      <td>1.000000</td>\n",
       "      <td>3.000000</td>\n",
       "      <td>33.000000</td>\n",
       "      <td>1.000000</td>\n",
       "      <td>2.000000</td>\n",
       "      <td>1.000000</td>\n",
       "      <td>0.000000</td>\n",
       "      <td>1.000000</td>\n",
       "      <td>0.000000</td>\n",
       "      <td>0.000000</td>\n",
       "      <td>0.000000</td>\n",
       "      <td>0.000000</td>\n",
       "      <td>1.000000</td>\n",
       "      <td>0.500000</td>\n",
       "    </tr>\n",
       "    <tr>\n",
       "      <th>75%</th>\n",
       "      <td>1.000000</td>\n",
       "      <td>0.270000</td>\n",
       "      <td>4.000000</td>\n",
       "      <td>2159.375000</td>\n",
       "      <td>1.000000</td>\n",
       "      <td>3.000000</td>\n",
       "      <td>1.000000</td>\n",
       "      <td>4.000000</td>\n",
       "      <td>41.000000</td>\n",
       "      <td>2.000000</td>\n",
       "      <td>2.000000</td>\n",
       "      <td>1.000000</td>\n",
       "      <td>1.000000</td>\n",
       "      <td>1.000000</td>\n",
       "      <td>1.000000</td>\n",
       "      <td>0.000000</td>\n",
       "      <td>1.000000</td>\n",
       "      <td>0.000000</td>\n",
       "      <td>1.000000</td>\n",
       "      <td>1.000000</td>\n",
       "    </tr>\n",
       "    <tr>\n",
       "      <th>max</th>\n",
       "      <td>2.000000</td>\n",
       "      <td>0.720000</td>\n",
       "      <td>4.000000</td>\n",
       "      <td>9212.000000</td>\n",
       "      <td>4.000000</td>\n",
       "      <td>4.000000</td>\n",
       "      <td>1.000000</td>\n",
       "      <td>4.000000</td>\n",
       "      <td>75.000000</td>\n",
       "      <td>4.000000</td>\n",
       "      <td>3.000000</td>\n",
       "      <td>2.000000</td>\n",
       "      <td>1.000000</td>\n",
       "      <td>1.000000</td>\n",
       "      <td>1.000000</td>\n",
       "      <td>1.000000</td>\n",
       "      <td>1.000000</td>\n",
       "      <td>1.000000</td>\n",
       "      <td>1.000000</td>\n",
       "      <td>1.000000</td>\n",
       "    </tr>\n",
       "  </tbody>\n",
       "</table>\n",
       "</div>"
      ],
      "text/plain": [
       "          account    duration  credit_history       amount     savings  \\\n",
       "count  600.000000  600.000000      600.000000   600.000000  600.000000   \n",
       "mean     0.083333    0.218783        2.410000  1735.245833    1.200000   \n",
       "std      0.915306    0.127492        1.098747  1545.026093    0.924531   \n",
       "min     -1.000000    0.040000        0.000000   125.000000    0.000000   \n",
       "25%     -1.000000    0.120000        2.000000   681.625000    1.000000   \n",
       "50%      0.000000    0.180000        2.000000  1173.500000    1.000000   \n",
       "75%      1.000000    0.270000        4.000000  2159.375000    1.000000   \n",
       "max      2.000000    0.720000        4.000000  9212.000000    4.000000   \n",
       "\n",
       "       employment  guarantors   residence         age  credits_number  \\\n",
       "count  600.000000  600.000000  600.000000  600.000000      600.000000   \n",
       "mean     2.348333    0.901667    2.831667   35.181667        1.366667   \n",
       "std      1.208069    0.298013    1.103945   11.416182        0.565174   \n",
       "min      0.000000    0.000000    1.000000   19.000000        1.000000   \n",
       "25%      2.000000    1.000000    2.000000   26.000000        1.000000   \n",
       "50%      2.000000    1.000000    3.000000   33.000000        1.000000   \n",
       "75%      3.000000    1.000000    4.000000   41.000000        2.000000   \n",
       "max      4.000000    1.000000    4.000000   75.000000        4.000000   \n",
       "\n",
       "              job  maintenance_people   telephone     foreign  real_estate  \\\n",
       "count  600.000000          600.000000  600.000000  600.000000   600.000000   \n",
       "mean     1.906667            1.150000    0.391667    0.965000     0.268333   \n",
       "std      0.662334            0.357369    0.488530    0.183933     0.443462   \n",
       "min      0.000000            1.000000    0.000000    0.000000     0.000000   \n",
       "25%      2.000000            1.000000    0.000000    1.000000     0.000000   \n",
       "50%      2.000000            1.000000    0.000000    1.000000     0.000000   \n",
       "75%      2.000000            1.000000    1.000000    1.000000     1.000000   \n",
       "max      3.000000            2.000000    1.000000    1.000000     1.000000   \n",
       "\n",
       "       life_insurance         car  housing_rent         sex      target  \n",
       "count      600.000000  600.000000    600.000000  600.000000  600.000000  \n",
       "mean         0.205000    0.343333      0.186667    0.691667    0.500000  \n",
       "std          0.404038    0.475218      0.389969    0.462190    0.500417  \n",
       "min          0.000000    0.000000      0.000000    0.000000    0.000000  \n",
       "25%          0.000000    0.000000      0.000000    0.000000    0.000000  \n",
       "50%          0.000000    0.000000      0.000000    1.000000    0.500000  \n",
       "75%          0.000000    1.000000      0.000000    1.000000    1.000000  \n",
       "max          1.000000    1.000000      1.000000    1.000000    1.000000  "
      ]
     },
     "execution_count": 7,
     "metadata": {},
     "output_type": "execute_result"
    }
   ],
   "source": [
    "tab.describe()"
   ]
  },
  {
   "cell_type": "markdown",
   "metadata": {},
   "source": [
    "По этой таблице можно отвечать на вопросы вида \"Есть ли пропуски в данных?\" и\n",
    "\"Все ли признаки одного масштаба?\", чтобы лучше понять, какая требуется предобработка данных. В нашем случае пропусков нет (в строке count всегда 600), однако признаки имеют разный масштаб: есть признаки, измеряющиеся в тысячах (например, amount), а есть признаки, измеряющиеся в единицах (например, account и employment). Это может негативно сказаться на качестве обученной модели и усложняет интерпретацию весов (нельзя сравнивать веса, если признаки имеют разный масштаб). Поэтому ниже мы перенормируем признаки, чтобы они все принимали значения от 0 до 1: это никак не испортит наши данные и решит указанные проблемы."
   ]
  },
  {
   "cell_type": "markdown",
   "metadata": {},
   "source": [
    "Посмотрим на гистограммы признаков:"
   ]
  },
  {
   "cell_type": "code",
   "execution_count": 8,
   "metadata": {},
   "outputs": [
    {
     "data": {
      "image/png": "[encoded data removed]",
      "text/plain": [
       "<matplotlib.figure.Figure at 0x114ad4780>"
      ]
     },
     "metadata": {},
     "output_type": "display_data"
    }
   ],
   "source": [
    "smth = tab.hist(figsize=(20, 20), bins=100)"
   ]
  },
  {
   "cell_type": "markdown",
   "metadata": {},
   "source": [
    "Примеры вопросов, на которые можно отвечать по гистограммам (с ответами):\n",
    "* Признаки каких типов присутствуют в данных? - вещественные, порядковые, бинарные\n",
    "* Есть ли в данных ненужные признаки (например, всегда равные одному значению)? - нет\n",
    "* Нет ли ошибок в данных? - нет. Например, минимальный возраст 18, что соответствует стандартной практике (раньше 18 лет кредиты не выдают)."
   ]
  },
  {
   "cell_type": "markdown",
   "metadata": {},
   "source": [
    "### 2. Подготовка данных"
   ]
  },
  {
   "cell_type": "markdown",
   "metadata": {},
   "source": [
    "Выделим отдельно признаки и целевую переменную. Для простоты исключим категориальный признак \"цель кредита\" (при создании переменной X удалим последние два столбца)."
   ]
  },
  {
   "cell_type": "code",
   "execution_count": 9,
   "metadata": {
    "collapsed": true
   },
   "outputs": [],
   "source": [
    "X = tab[tab.columns[:-2]]\n",
    "y = tab[\"target\"]"
   ]
  },
  {
   "cell_type": "markdown",
   "metadata": {},
   "source": [
    "В предыдущем разделе мы увидели, что признаки имеют разный масштаб. Это помешает нам интерпретировать веса линейной модели, а также может усложнить обучение. Поэтому мы приведем признаки в один масштаб. Воспользуемся библиотекой sklearn:"
   ]
  },
  {
   "cell_type": "code",
   "execution_count": 10,
   "metadata": {
    "collapsed": true
   },
   "outputs": [],
   "source": [
    "from sklearn.preprocessing import MinMaxScaler"
   ]
  },
  {
   "cell_type": "code",
   "execution_count": 11,
   "metadata": {
    "collapsed": true
   },
   "outputs": [],
   "source": [
    "scaler = MinMaxScaler()\n",
    "X = scaler.fit_transform(X)"
   ]
  },
  {
   "cell_type": "code",
   "execution_count": 12,
   "metadata": {},
   "outputs": [
    {
     "data": {
      "text/plain": [
       "array([[0.66666667, 0.20588235, 0.5       , 0.13051612, 0.5       ,\n",
       "        0.5       , 1.        , 1.        , 0.26785714, 0.        ,\n",
       "        0.66666667, 0.        , 0.        , 1.        , 0.        ,\n",
       "        0.        , 1.        , 0.        , 1.        ],\n",
       "       [0.        , 0.20588235, 0.        , 0.15703753, 0.25      ,\n",
       "        0.75      , 1.        , 0.        , 0.21428571, 0.        ,\n",
       "        0.66666667, 0.        , 1.        , 1.        , 0.        ,\n",
       "        1.        , 0.        , 0.        , 1.        ],\n",
       "       [0.        , 0.11764706, 0.5       , 0.03587543, 0.25      ,\n",
       "        0.75      , 1.        , 1.        , 0.03571429, 0.        ,\n",
       "        0.66666667, 0.        , 0.        , 1.        , 0.        ,\n",
       "        1.        , 0.        , 1.        , 1.        ]])"
      ]
     },
     "execution_count": 12,
     "metadata": {},
     "output_type": "execute_result"
    }
   ],
   "source": [
    "X[:3]"
   ]
  },
  {
   "cell_type": "markdown",
   "metadata": {},
   "source": [
    "Теперь значения во всех столбцах от 0 до 1!"
   ]
  },
  {
   "cell_type": "markdown",
   "metadata": {},
   "source": [
    "### Задания для самостоятельной работы\n",
    "\n",
    "Теперь мы готовы к тому, чтобы повторить шаги, которые мы выполняли в задании с домами Бостона: разделение данных на обучение и контроль, построение и анализ модели.\n",
    "\n",
    "При выполнении заданий используйте примеры кода из задания про дома Бостона, а также [__таблицу с подсказками__](https://github.com/nadiinchi/intro_sklearn/blob/master/Cheatsheet.pdf) (у нее две страницы!).\n",
    "\n",
    "Обязательно выполните все предыдущие ячейки. Для этого нажмите на эту ячейку, затем выберите в меню Cell -> Run all above (если вы не выполняли все предыдущие ячейки по одной)."
   ]
  },
  {
   "cell_type": "markdown",
   "metadata": {},
   "source": [
    "#### Задача 1. Разделение данных на обучение и контроль\n",
    "\n",
    "Используйте функцию train_test_split, чтобы разделить выборку X, y на обучение и контроль. Задайте test_size = 0.3 (30% выборки - размер тестовой части).\n",
    "\n",
    "Не забудьте выполнить ячейку с импортом метода (следующая ячейка)."
   ]
  },
  {
   "cell_type": "code",
   "execution_count": null,
   "metadata": {
    "collapsed": true
   },
   "outputs": [],
   "source": [
    "from sklearn.model_selection import train_test_split\n",
    "# функция для разделения выборки на обучающую и тестовую"
   ]
  },
  {
   "cell_type": "code",
   "execution_count": null,
   "metadata": {
    "collapsed": true
   },
   "outputs": [],
   "source": []
  },
  {
   "cell_type": "markdown",
   "metadata": {},
   "source": [
    "### 3. Обучение  модели\n",
    "\n",
    "#### Задача 2.  Обучение линейной модели\n",
    "\n",
    "Обучите линейную модель на обучающих данных. Используйте метод LogisticRegression (метод линейной классификации).\n",
    "\n",
    "Не забудьте выполнить ячейку с импортом метода (следующая ячейка)."
   ]
  },
  {
   "cell_type": "code",
   "execution_count": null,
   "metadata": {
    "collapsed": true
   },
   "outputs": [],
   "source": [
    "from sklearn.linear_model import LogisticRegression"
   ]
  },
  {
   "cell_type": "code",
   "execution_count": null,
   "metadata": {
    "collapsed": true
   },
   "outputs": [],
   "source": [
    "model = \n"
   ]
  },
  {
   "cell_type": "markdown",
   "metadata": {},
   "source": [
    "### 4. Получение предсказаний\n",
    "\n",
    "#### Задача 3. Предсказания линейной модели\n",
    "\n",
    "Выполните предсказания линейной модели на обучающей и тестовой выборказ."
   ]
  },
  {
   "cell_type": "code",
   "execution_count": null,
   "metadata": {
    "collapsed": true
   },
   "outputs": [],
   "source": []
  },
  {
   "cell_type": "markdown",
   "metadata": {},
   "source": [
    "### 5. Оценивание качества модели\n",
    "\n",
    "#### Задача 4. Качество линейной модели\n",
    "\n",
    "Оцените качество линейной модели на обучающей и тестовой выборках - вычислите значения метрики accuracy_score для двух выборов. Воспользуемся метрикой accuracy и импортируем функцию accuracy_score. Эту функцию нужно использовать точно так же, как функцию mean_absolute_error из задания про Бостон, однако она оценивает качество классификации, а не регрессии. \n",
    "\n",
    "Не забудьте выполнить ячейку с импортом метрики (следующая ячейка)."
   ]
  },
  {
   "cell_type": "code",
   "execution_count": null,
   "metadata": {
    "collapsed": true
   },
   "outputs": [],
   "source": [
    "from sklearn.metrics import accuracy_score"
   ]
  },
  {
   "cell_type": "code",
   "execution_count": null,
   "metadata": {
    "collapsed": true
   },
   "outputs": [],
   "source": []
  },
  {
   "cell_type": "markdown",
   "metadata": {},
   "source": [
    "Качесто модели не очень высокое, но сильно выше самого простого базового решения - всегда предсказывать класс 0 (такой алгоритм будет иметь точность 0.5). Обратите внимание, что печатается результат в долях - для перевода в проценты его нужно домножить на сто.\n",
    "\n",
    "В этом задании вы построили линейную модель на данных кредитного скоринга. Чтобы улучшить модель, можно было бы попробовать использовать категориальный признак \"цель кредита\", подобрать гиперпараметры метода и попробовать другие методы, как мы этот делали в задании с Бостоном."
   ]
  },
  {
   "cell_type": "code",
   "execution_count": null,
   "metadata": {
    "collapsed": true
   },
   "outputs": [],
   "source": []
  }
 ],
 "metadata": {
  "kernelspec": {
   "display_name": "Python 3",
   "language": "python",
   "name": "python3"
  },
  "language_info": {
   "codemirror_mode": {
    "name": "ipython",
    "version": 3
   },
   "file_extension": ".py",
   "mimetype": "text/x-python",
   "name": "python",
   "nbconvert_exporter": "python",
   "pygments_lexer": "ipython3",
   "version": "3.6.3"
  }
 },
 "nbformat": 4,
 "nbformat_minor": 2
}
